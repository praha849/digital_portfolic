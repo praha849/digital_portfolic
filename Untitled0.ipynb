{
  "nbformat": 4,
  "nbformat_minor": 0,
  "metadata": {
    "colab": {
      "provenance": [],
      "gpuType": "T4",
      "authorship_tag": "ABX9TyOZTpVC325baOgS9Dpwdqlq",
      "include_colab_link": true
    },
    "kernelspec": {
      "name": "python3",
      "display_name": "Python 3"
    },
    "language_info": {
      "name": "python"
    },
    "accelerator": "GPU"
  },
  "cells": [
    {
      "cell_type": "markdown",
      "metadata": {
        "id": "view-in-github",
        "colab_type": "text"
      },
      "source": [
        "<a href=\"https://colab.research.google.com/github/praha849/digital_portfolic/blob/main/Untitled0.ipynb\" target=\"_parent\"><img src=\"https://colab.research.google.com/assets/colab-badge.svg\" alt=\"Open In Colab\"/></a>"
      ]
    },
    {
      "cell_type": "code",
      "execution_count": null,
      "metadata": {
        "id": "h2nqI3E2vizE"
      },
      "outputs": [],
      "source": [
        "# This caused a SyntaxError. Please clarify what you intended to do with \"Health Ai\".\n",
        "# For example, did you mean to assign it to a variable like:\n",
        "# project_name = \"Health Ai\"\n",
        "# Or print it like:\n",
        "# print(\"Health Ai\")"
      ]
    }
  ]
}